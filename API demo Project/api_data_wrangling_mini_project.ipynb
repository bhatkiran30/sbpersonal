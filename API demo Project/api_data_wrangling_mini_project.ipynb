{
 "cells": [
  {
   "cell_type": "markdown",
   "metadata": {},
   "source": [
    "This exercise will require you to pull some data from the Qunadl API. Qaundl is currently the most widely used aggregator of financial market data."
   ]
  },
  {
   "cell_type": "markdown",
   "metadata": {},
   "source": [
    "As a first step, you will need to register a free account on the http://www.quandl.com website."
   ]
  },
  {
   "cell_type": "markdown",
   "metadata": {},
   "source": [
    "After you register, you will be provided with a unique API key, that you should store:"
   ]
  },
  {
   "cell_type": "code",
   "execution_count": 1,
   "metadata": {},
   "outputs": [],
   "source": [
    "# Store the API key as a string - according to PEP8, constants are always named in all upper case\n",
    "API_KEY = ''"
   ]
  },
  {
   "cell_type": "markdown",
   "metadata": {},
   "source": [
    "Qaundl has a large number of data sources, but, unfortunately, most of them require a Premium subscription. Still, there are also a good number of free datasets."
   ]
  },
  {
   "cell_type": "markdown",
   "metadata": {},
   "source": [
    "For this mini project, we will focus on equities data from the Frankfurt Stock Exhange (FSE), which is available for free. We'll try and analyze the stock prices of a company called Carl Zeiss Meditec, which manufactures tools for eye examinations, as well as medical lasers for laser eye surgery: https://www.zeiss.com/meditec/int/home.html. The company is listed under the stock ticker AFX_X."
   ]
  },
  {
   "cell_type": "markdown",
   "metadata": {},
   "source": [
    "You can find the detailed Quandl API instructions here: https://docs.quandl.com/docs/time-series"
   ]
  },
  {
   "cell_type": "markdown",
   "metadata": {},
   "source": [
    "While there is a dedicated Python package for connecting to the Quandl API, we would prefer that you use the *requests* package, which can be easily downloaded using *pip* or *conda*. You can find the documentation for the package here: http://docs.python-requests.org/en/master/ "
   ]
  },
  {
   "cell_type": "markdown",
   "metadata": {},
   "source": [
    "Finally, apart from the *requests* package, you are encouraged to not use any third party Python packages, such as *pandas*, and instead focus on what's available in the Python Standard Library (the *collections* module might come in handy: https://pymotw.com/3/collections/ ).\n",
    "Also, since you won't have access to DataFrames, you are encouraged to us Python's native data structures - preferably dictionaries, though some questions can also be answered using lists.\n",
    "You can read more on these data structures here: https://docs.python.org/3/tutorial/datastructures.html"
   ]
  },
  {
   "cell_type": "markdown",
   "metadata": {},
   "source": [
    "Keep in mind that the JSON responses you will be getting from the API map almost one-to-one to Python's dictionaries. Unfortunately, they can be very nested, so make sure you read up on indexing dictionaries in the documentation provided above."
   ]
  },
  {
   "cell_type": "code",
   "execution_count": 2,
   "metadata": {},
   "outputs": [],
   "source": [
    "# First, import the relevant modules\n",
    "import collections\n",
    "import requests\n",
    "import datetime"
   ]
  },
  {
   "cell_type": "code",
   "execution_count": 3,
   "metadata": {},
   "outputs": [],
   "source": [
    "# Now, call the Quandl API and pull out a small sample of the data (only one day) to get a glimpse\n",
    "date = datetime.datetime(2020,7,10)\n",
    "url = \"https://www.quandl.com/api/v3/datasets/FSE/AFX_X?start_date=\"+date.strftime(\"%Y-%m-%d\")+\"&end_date=\"+date.strftime(\"%Y-%m-%d\")+\"&api_key=\"+API_KEY\n",
    "response = requests.get(url)\n",
    "# into the JSON structure that will be returned\n",
    "json_format = response.json()"
   ]
  },
  {
   "cell_type": "code",
   "execution_count": 4,
   "metadata": {},
   "outputs": [
    {
     "data": {
      "text/plain": [
       "{'dataset': {'id': 10095370,\n",
       "  'dataset_code': 'AFX_X',\n",
       "  'database_code': 'FSE',\n",
       "  'name': 'Carl Zeiss Meditec (AFX_X)',\n",
       "  'description': 'Stock Prices for Carl Zeiss Meditec (2020-06-26) from the Frankfurt Stock Exchange.<br><br>Trading System: Xetra<br><br>ISIN: DE0005313704',\n",
       "  'refreshed_at': '2020-07-10T22:16:32.795Z',\n",
       "  'newest_available_date': '2020-07-10',\n",
       "  'oldest_available_date': '2000-06-07',\n",
       "  'column_names': ['Date',\n",
       "   'Open',\n",
       "   'High',\n",
       "   'Low',\n",
       "   'Close',\n",
       "   'Change',\n",
       "   'Traded Volume',\n",
       "   'Turnover',\n",
       "   'Last Price of the Day',\n",
       "   'Daily Traded Units',\n",
       "   'Daily Turnover'],\n",
       "  'frequency': 'daily',\n",
       "  'type': 'Time Series',\n",
       "  'premium': False,\n",
       "  'limit': None,\n",
       "  'transform': None,\n",
       "  'column_index': None,\n",
       "  'start_date': '2020-07-10',\n",
       "  'end_date': '2020-07-10',\n",
       "  'data': [['2020-07-10',\n",
       "    89.25,\n",
       "    91.55,\n",
       "    88.9,\n",
       "    89.9,\n",
       "    None,\n",
       "    93540.0,\n",
       "    8453243.25,\n",
       "    None,\n",
       "    None,\n",
       "    None]],\n",
       "  'collapse': None,\n",
       "  'order': None,\n",
       "  'database_id': 6129}}"
      ]
     },
     "execution_count": 4,
     "metadata": {},
     "output_type": "execute_result"
    }
   ],
   "source": [
    "# Inspect the JSON structure of the object you created, and take note of how nested it is,\n",
    "# as well as the overall structure\n",
    "\n",
    "json_format"
   ]
  },
  {
   "cell_type": "markdown",
   "metadata": {},
   "source": [
    "These are your tasks for this mini project:\n",
    "\n",
    "1. Collect data from the Franfurt Stock Exchange, for the ticker AFX_X, for the whole year 2017 (keep in mind that the date format is YYYY-MM-DD).\n",
    "2. Convert the returned JSON object into a Python dictionary.\n",
    "3. Calculate what the highest and lowest opening prices were for the stock in this period.\n",
    "4. What was the largest change in any one day (based on High and Low price)?\n",
    "5. What was the largest change between any two days (based on Closing Price)?\n",
    "6. What was the average daily trading volume during this year?\n",
    "7. (Optional) What was the median trading volume during this year. (Note: you may need to implement your own function for calculating the median.)"
   ]
  },
  {
   "cell_type": "code",
   "execution_count": 5,
   "metadata": {},
   "outputs": [
    {
     "name": "stdout",
     "output_type": "stream",
     "text": [
      "Date Start 2017-01-01 | Date End 2017-12-31\n"
     ]
    }
   ],
   "source": [
    "# Now we will declare the start and end date of the year 2017 to get all the data of that corresponding year\n",
    "date_start = datetime.datetime(2017,1,1).strftime(\"%Y-%m-%d\")\n",
    "date_end = datetime.datetime(2017,12,31).strftime(\"%Y-%m-%d\")\n",
    "print(\"Date Start \"+date_start+\" | Date End \"+date_end)"
   ]
  },
  {
   "cell_type": "code",
   "execution_count": 6,
   "metadata": {},
   "outputs": [
    {
     "data": {
      "text/plain": [
       "['2017-12-29',\n",
       " 51.76,\n",
       " 51.94,\n",
       " 51.45,\n",
       " 51.76,\n",
       " None,\n",
       " 34640.0,\n",
       " 1792304.0,\n",
       " None,\n",
       " None,\n",
       " None]"
      ]
     },
     "execution_count": 6,
     "metadata": {},
     "output_type": "execute_result"
    }
   ],
   "source": [
    "# Now we will pass the start_date, end_date and API_KEY to get the trading data of Zeiss in the year 2017\n",
    "new_url = \"https://www.quandl.com/api/v3/datasets/FSE/AFX_X?start_date=\"+date_start+\"&end_date=\"+date_end+\"&api_key=\"+API_KEY\n",
    "response = requests.get(new_url)\n",
    "# We will call .json() method of the requests module which automaically returns us the data in Json format.\n",
    "data_year = response.json()\n",
    "#Json is automatically parsed as a dictionary in Python\n",
    "data_year['dataset']['data'][0]"
   ]
  },
  {
   "cell_type": "code",
   "execution_count": 7,
   "metadata": {},
   "outputs": [],
   "source": [
    "# Now we will create four lists that contain only the Open, High, low and close price of each individual day in the dataset\n",
    "# Note we are using is not None to filter out any null values if present\n",
    "open_values = [x[1] for x in data_year['dataset']['data'] if x[1] is not None]\n",
    "high_values = [x[2] for x in data_year['dataset']['data'] if x[2] is not None]\n",
    "low_values = [x[3] for x in data_year['dataset']['data'] if x[3] is not None]\n",
    "close_values = [x[4] for x in data_year['dataset']['data'] if x[4] is not None]"
   ]
  },
  {
   "cell_type": "code",
   "execution_count": 8,
   "metadata": {},
   "outputs": [
    {
     "name": "stdout",
     "output_type": "stream",
     "text": [
      "Highest Opening Price is : 53.11. Lowest Opening Price is : 34.0\n"
     ]
    }
   ],
   "source": [
    "# Now we will use min() and max() to find the Minimum and Maximum Opening Price of the entire Dataset\n",
    "minimum_value = min(open_values)\n",
    "maximum_value = max(open_values)\n",
    "print('Highest Opening Price is : {}. Lowest Opening Price is : {}'.format(maximum_value,minimum_value))"
   ]
  },
  {
   "cell_type": "code",
   "execution_count": 9,
   "metadata": {},
   "outputs": [
    {
     "name": "stdout",
     "output_type": "stream",
     "text": [
      "Largest change in a single day is : 2.81\n"
     ]
    }
   ],
   "source": [
    "# Now we need to find the largest change in a single based on high and low values.\n",
    "# We will high_values and low_values lists for this purpose\n",
    "largest_change_in_one_day = 0\n",
    "length = len(high_values)\n",
    "for i in range(length):\n",
    "    #Calculate the difference between High and Low values and save them to a variable\n",
    "    change = high_values[i] - low_values[i]\n",
    "    if largest_change_in_one_day < change:\n",
    "        largest_change_in_one_day = change\n",
    "\n",
    "print('Largest change in a single day is : %.2f'%(largest_change_in_one_day))"
   ]
  },
  {
   "cell_type": "code",
   "execution_count": 10,
   "metadata": {},
   "outputs": [
    {
     "name": "stdout",
     "output_type": "stream",
     "text": [
      "Largest change between two days is : 0.95\n"
     ]
    }
   ],
   "source": [
    "# Now we need to find the largest change between two days based on closing values.\n",
    "# We will close_values lists for this purpose\n",
    "largest_change_between_two_days = 0\n",
    "length = len(close_values)\n",
    "for i in range(length):\n",
    "    prev_value = 0\n",
    "    if(i > 0):\n",
    "        prev_value = close_values[i-1]\n",
    "    else: \n",
    "        prev_value = close_values[i]\n",
    "    current_value = close_values[i]\n",
    "    difference = current_value - prev_value\n",
    "    if largest_change_between_two_days < difference:\n",
    "        largest_change_between_two_days = change\n",
    "\n",
    "print('Largest change between two days is : %.2f'%(largest_change_between_two_days))"
   ]
  },
  {
   "cell_type": "code",
   "execution_count": 11,
   "metadata": {},
   "outputs": [
    {
     "name": "stdout",
     "output_type": "stream",
     "text": [
      "Average Daily Trading Volume : 62264.95\n"
     ]
    }
   ],
   "source": [
    "# Calculate the average trading volume by adding all the traded volumes in the dataset and divide it by 365\n",
    "trading_volume = [x[6] for x in data_year['dataset']['data'] if x[6] is not None]\n",
    "average_daily_trading_volume = sum(trading_volume)/365\n",
    "print('Average Daily Trading Volume : %.2f'%(average_daily_trading_volume))"
   ]
  },
  {
   "cell_type": "code",
   "execution_count": 12,
   "metadata": {},
   "outputs": [
    {
     "name": "stdout",
     "output_type": "stream",
     "text": [
      "Median trading volume this year is 134965.00\n"
     ]
    }
   ],
   "source": [
    "# To get the median trading volume get the midpoint index and find the value for that index\n",
    "median_trading_volume = trading_volume[round(len(trading_volume)/2) - 1]\n",
    "print('Median trading volume this year is %.2f'%(median_trading_volume))"
   ]
  },
  {
   "cell_type": "code",
   "execution_count": null,
   "metadata": {},
   "outputs": [],
   "source": []
  }
 ],
 "metadata": {
  "kernelspec": {
   "display_name": "Python 3",
   "language": "python",
   "name": "python3"
  },
  "language_info": {
   "codemirror_mode": {
    "name": "ipython",
    "version": 3
   },
   "file_extension": ".py",
   "mimetype": "text/x-python",
   "name": "python",
   "nbconvert_exporter": "python",
   "pygments_lexer": "ipython3",
   "version": "3.7.6"
  }
 },
 "nbformat": 4,
 "nbformat_minor": 4
}
